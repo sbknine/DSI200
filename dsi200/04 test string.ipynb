{
 "cells": [
  {
   "cell_type": "code",
   "execution_count": 36,
   "id": "proprietary-prince",
   "metadata": {},
   "outputs": [],
   "source": [
    "x='''\n",
    "A string datatype is a datatype modeled on the idea of a formal string.\n",
    "String is such an important and useful datatype.\n",
    "String is implemented in nearly every programming language.\n",
    "'''\n"
   ]
  },
  {
   "cell_type": "code",
   "execution_count": 47,
   "id": "covered-alfred",
   "metadata": {
    "scrolled": true
   },
   "outputs": [
    {
     "name": "stdout",
     "output_type": "stream",
     "text": [
      "1 loop, best of 3: 12 µs per loop\n"
     ]
    }
   ],
   "source": [
    "%%timeit -n1\n",
    "count={}\n",
    "for i in x.lower().split():\n",
    "    count[i]=count.get(i,0)+1"
   ]
  },
  {
   "cell_type": "code",
   "execution_count": 48,
   "id": "undefined-coating",
   "metadata": {},
   "outputs": [
    {
     "name": "stdout",
     "output_type": "stream",
     "text": [
      "1 loop, best of 3: 26.1 µs per loop\n"
     ]
    }
   ],
   "source": [
    "%%timeit -n1\n",
    "count={}\n",
    "y=x.replace('.','')\n",
    "for i in x.lower().split():\n",
    "    count[i]=count.get(i,0)+1"
   ]
  },
  {
   "cell_type": "code",
   "execution_count": 4,
   "id": "virtual-northwest",
   "metadata": {},
   "outputs": [
    {
     "data": {
      "text/plain": [
       "{'a': 3,\n",
       " 'string': 3,\n",
       " 'datatype': 2,\n",
       " 'is': 3,\n",
       " 'modeled': 1,\n",
       " 'on': 1,\n",
       " 'the': 1,\n",
       " 'idea': 1,\n",
       " 'of': 1,\n",
       " 'formal': 1,\n",
       " 'string.': 1,\n",
       " 'such': 1,\n",
       " 'an': 1,\n",
       " 'important': 1,\n",
       " 'and': 1,\n",
       " 'useful': 1,\n",
       " 'datatype.': 1,\n",
       " 'implemented': 1,\n",
       " 'in': 1,\n",
       " 'nearly': 1,\n",
       " 'every': 1,\n",
       " 'programming': 1,\n",
       " 'language.': 1}"
      ]
     },
     "execution_count": 4,
     "metadata": {},
     "output_type": "execute_result"
    }
   ],
   "source": [
    "count"
   ]
  },
  {
   "cell_type": "code",
   "execution_count": null,
   "id": "prime-check",
   "metadata": {},
   "outputs": [],
   "source": []
  }
 ],
 "metadata": {
  "kernelspec": {
   "display_name": "Python 3",
   "language": "python",
   "name": "python3"
  },
  "language_info": {
   "codemirror_mode": {
    "name": "ipython",
    "version": 3
   },
   "file_extension": ".py",
   "mimetype": "text/x-python",
   "name": "python",
   "nbconvert_exporter": "python",
   "pygments_lexer": "ipython3",
   "version": "3.6.12"
  }
 },
 "nbformat": 4,
 "nbformat_minor": 5
}
