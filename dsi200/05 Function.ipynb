{
 "cells": [
  {
   "cell_type": "markdown",
   "id": "shared-copper",
   "metadata": {},
   "source": [
    "# Fuction"
   ]
  },
  {
   "cell_type": "code",
   "execution_count": 1,
   "id": "decreased-comment",
   "metadata": {},
   "outputs": [],
   "source": [
    "def f(x):\n",
    "    return x**2"
   ]
  },
  {
   "cell_type": "code",
   "execution_count": 2,
   "id": "motivated-combine",
   "metadata": {},
   "outputs": [
    {
     "data": {
      "text/plain": [
       "9"
      ]
     },
     "execution_count": 2,
     "metadata": {},
     "output_type": "execute_result"
    }
   ],
   "source": [
    "f(3)"
   ]
  },
  {
   "cell_type": "markdown",
   "id": "about-might",
   "metadata": {},
   "source": [
    "# Input"
   ]
  },
  {
   "cell_type": "code",
   "execution_count": 3,
   "id": "designing-saturn",
   "metadata": {},
   "outputs": [],
   "source": [
    "def f(x=0):\n",
    "    return x**2"
   ]
  },
  {
   "cell_type": "code",
   "execution_count": null,
   "id": "computational-worker",
   "metadata": {},
   "outputs": [],
   "source": [
    "f()"
   ]
  },
  {
   "cell_type": "code",
   "execution_count": null,
   "id": "interior-freedom",
   "metadata": {},
   "outputs": [],
   "source": [
    "def f(x=0,y=1):\n",
    "    return x**y"
   ]
  },
  {
   "cell_type": "code",
   "execution_count": null,
   "id": "mobile-fruit",
   "metadata": {},
   "outputs": [],
   "source": [
    "f(2,3)"
   ]
  },
  {
   "cell_type": "markdown",
   "id": "nonprofit-teddy",
   "metadata": {},
   "source": [
    "# Process"
   ]
  },
  {
   "cell_type": "code",
   "execution_count": null,
   "id": "protected-haiti",
   "metadata": {},
   "outputs": [],
   "source": [
    "import math"
   ]
  },
  {
   "cell_type": "code",
   "execution_count": null,
   "id": "universal-george",
   "metadata": {},
   "outputs": [],
   "source": [
    "def root(a,b,c):\n",
    "    x1= (-b + math.sqrt(b**2 - 4*a*c))/2*a \n",
    "    x2= (-b - math.sqrt(b**2 - 4*a*c))/2*a\n",
    "    return x1,x2"
   ]
  },
  {
   "cell_type": "code",
   "execution_count": null,
   "id": "later-glass",
   "metadata": {},
   "outputs": [],
   "source": [
    "root(1,-1,-2)"
   ]
  },
  {
   "cell_type": "markdown",
   "id": "acute-assistant",
   "metadata": {},
   "source": [
    "# Return output"
   ]
  },
  {
   "cell_type": "code",
   "execution_count": null,
   "id": "lesbian-burlington",
   "metadata": {},
   "outputs": [],
   "source": [
    "def f(x,y,z):\n",
    "    return (2*x,2*y,2*z)"
   ]
  },
  {
   "cell_type": "code",
   "execution_count": null,
   "id": "interstate-yeast",
   "metadata": {},
   "outputs": [],
   "source": [
    "a,b,c = f(2,3,4)"
   ]
  },
  {
   "cell_type": "code",
   "execution_count": null,
   "id": "flying-division",
   "metadata": {},
   "outputs": [],
   "source": [
    "print(\"a:{}, b:{}, c:{}\".format(a,b,c))"
   ]
  },
  {
   "cell_type": "markdown",
   "id": "animal-sweet",
   "metadata": {},
   "source": [
    "# Input list (*args)"
   ]
  },
  {
   "cell_type": "code",
   "execution_count": null,
   "id": "marked-special",
   "metadata": {},
   "outputs": [],
   "source": [
    "def f(*args):\n",
    "    for i in args:\n",
    "        print(i*2"
   ]
  },
  {
   "cell_type": "code",
   "execution_count": null,
   "id": "durable-parade",
   "metadata": {},
   "outputs": [],
   "source": [
    "f('a','b','c',1,2,3)"
   ]
  },
  {
   "cell_type": "markdown",
   "id": "other-interview",
   "metadata": {},
   "source": [
    "# Input dictionary (**kwargs)"
   ]
  },
  {
   "cell_type": "code",
   "execution_count": null,
   "id": "accepted-strap",
   "metadata": {},
   "outputs": [],
   "source": [
    "def f(**kwargs):\n",
    "    for k,v in kwargs.items():\n",
    "        print(k,v)"
   ]
  },
  {
   "cell_type": "code",
   "execution_count": null,
   "id": "balanced-matrix",
   "metadata": {},
   "outputs": [],
   "source": [
    "f(a=1,b=2,c=3)"
   ]
  },
  {
   "cell_type": "markdown",
   "id": "thermal-nursing",
   "metadata": {},
   "source": [
    "# Function is an object"
   ]
  },
  {
   "cell_type": "code",
   "execution_count": null,
   "id": "inclusive-bailey",
   "metadata": {},
   "outputs": [],
   "source": [
    "def f(x):\n",
    "    print(x)"
   ]
  },
  {
   "cell_type": "code",
   "execution_count": null,
   "id": "precious-crazy",
   "metadata": {},
   "outputs": [],
   "source": [
    "f('hello')"
   ]
  },
  {
   "cell_type": "code",
   "execution_count": null,
   "id": "ongoing-singapore",
   "metadata": {},
   "outputs": [],
   "source": [
    "g=f"
   ]
  },
  {
   "cell_type": "code",
   "execution_count": null,
   "id": "intelligent-congress",
   "metadata": {},
   "outputs": [],
   "source": [
    "g('hello')"
   ]
  },
  {
   "cell_type": "markdown",
   "id": "sunrise-spice",
   "metadata": {},
   "source": [
    "# Decorator"
   ]
  },
  {
   "cell_type": "code",
   "execution_count": null,
   "id": "simple-hughes",
   "metadata": {},
   "outputs": [],
   "source": [
    "def twice(f):\n",
    "    def warper():\n",
    "        f()\n",
    "        f()\n",
    "    return warper\n",
    "\n",
    "@twice\n",
    "def f():\n",
    "    print('hello')"
   ]
  },
  {
   "cell_type": "code",
   "execution_count": null,
   "id": "ethical-burning",
   "metadata": {},
   "outputs": [],
   "source": [
    "f()"
   ]
  },
  {
   "cell_type": "markdown",
   "id": "complete-jungle",
   "metadata": {},
   "source": [
    "# Decorator with input"
   ]
  },
  {
   "cell_type": "code",
   "execution_count": null,
   "id": "auburn-opposition",
   "metadata": {},
   "outputs": [],
   "source": [
    "def twice(f):\n",
    "    def warper( *args, **kwargs):\n",
    "        f(*args, **kwargs)\n",
    "        f(*args, **kwargs)\n",
    "    return warper\n",
    "\n",
    "@twice\n",
    "def f(name):\n",
    "    print('hello '+ name)"
   ]
  },
  {
   "cell_type": "code",
   "execution_count": null,
   "id": "average-howard",
   "metadata": {},
   "outputs": [],
   "source": [
    "f('wasit')"
   ]
  },
  {
   "cell_type": "markdown",
   "id": "appropriate-wheel",
   "metadata": {},
   "source": [
    "# Decorator with input and output"
   ]
  },
  {
   "cell_type": "code",
   "execution_count": null,
   "id": "aggregate-genre",
   "metadata": {},
   "outputs": [],
   "source": [
    "def twice(f):\n",
    "    def warper( *args, **kwargs):\n",
    "        f(*args, **kwargs)\n",
    "        return f(*args, **kwargs)\n",
    "    return warper\n",
    "\n",
    "@twice\n",
    "def f(name):\n",
    "    print('hello '+ name)\n",
    "    return name.capitalize()"
   ]
  },
  {
   "cell_type": "code",
   "execution_count": null,
   "id": "surprising-launch",
   "metadata": {},
   "outputs": [],
   "source": [
    "f('wasit')"
   ]
  }
 ],
 "metadata": {
  "kernelspec": {
   "display_name": "Python 3",
   "language": "python",
   "name": "python3"
  },
  "language_info": {
   "codemirror_mode": {
    "name": "ipython",
    "version": 3
   },
   "file_extension": ".py",
   "mimetype": "text/x-python",
   "name": "python",
   "nbconvert_exporter": "python",
   "pygments_lexer": "ipython3",
   "version": "3.6.12"
  }
 },
 "nbformat": 4,
 "nbformat_minor": 5
}
